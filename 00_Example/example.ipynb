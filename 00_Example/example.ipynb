{
 "cells": [
  {
   "cell_type": "code",
   "execution_count": null,
   "metadata": {},
   "outputs": [],
   "source": [
    "'''EXAMPLE FORMAT OF FOLDER STRUCTURE FOR TELEMETRY ANALYSIS'''"
   ]
  },
  {
   "cell_type": "code",
   "execution_count": null,
   "metadata": {},
   "outputs": [],
   "source": [
    "grand_prix = \"example\"\n",
    "safety_car_laps = [\"01-15\"]  # a list in the form of [\"SC_1_start-SC_2_end\", \"SC_2_start-SC_2_end\"]\n",
    "fastf1_dir = None  # if you have a fastf1 Cache folder, replace none with its string.\n",
    "race = True"
   ]
  },
  {
   "cell_type": "code",
   "execution_count": null,
   "metadata": {},
   "outputs": [],
   "source": [
    "from data.race import race as f1r\n",
    "from data.qualifying import qualifying as f1q\n",
    "import fastf1 as f1\n",
    "\n",
    "import json\n",
    "\n",
    "with open(\"../data/season_info.json\") as file:\n",
    "    season_info = json.loads(file.read())\n",
    "\n",
    "teams = season_info[\"teams\"]\n",
    "team_colours = season_info[\"team_colours\"]\n",
    "tyre_colours = season_info[\"tyre_colours\"]\n",
    "drivers = season_info[\"drivers\"]\n",
    "races = season_info[\"races\"]\n",
    "current_race = races[grand_prix]\n",
    "\n",
    "if fastf1_dir is not None:\n",
    "    f1.Cache.enable_cache(fastf1_dir)\n",
    "if race is True:\n",
    "    identifier = \"R\"\n",
    "else:\n",
    "    identifier = \"Q\"\n",
    "DATA = f1.get_session(year=2024, gp=grand_prix, identifier=identifier)\n",
    "DATA.load()\n",
    "\n",
    "initial_data = f1r.initial_setup(DATA, safety_car_laps)\n",
    "sc_laps = initial_data[\"safety_car\"]\n",
    "all_laps_by_team = initial_data[\"team_laps\"]"
   ]
  }
 ],
 "metadata": {
  "language_info": {
   "name": "python"
  }
 },
 "nbformat": 4,
 "nbformat_minor": 2
}
